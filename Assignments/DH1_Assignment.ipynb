{
 "cells": [
  {
   "cell_type": "markdown",
   "id": "e55ebb43",
   "metadata": {},
   "source": [
    "## L2D Assignment - Data Handling 1:"
   ]
  },
  {
   "cell_type": "markdown",
   "id": "a49d1f7a",
   "metadata": {},
   "source": [
    "This notebook contains your assignment questions for the Data Handling 1 lesson. Please attempt and complete all questions. The topics this assignment will assess are:\n",
    "\n",
    "1. Data Frames - Part 1\n",
    "\n",
    "\n",
    "When you have completed your assignment, please commit the changes to your GitHub repository's 'Assignments' folder, as instructed in the [Assignments section](https://learntodiscover.github.io/L2D-Handbook/section7.html) of the [L2D Handbok](https://learntodiscover.github.io/L2D-Handbook).\n"
   ]
  },
  {
   "cell_type": "markdown",
   "id": "35c63c2c",
   "metadata": {},
   "source": [
    "### Data Frames - Part 1"
   ]
  },
  {
   "cell_type": "markdown",
   "id": "2a121f5e-051a-4a73-bfc6-ef92c8ca6cc7",
   "metadata": {},
   "source": [
    "\n",
    "Download the cervical cancer dataset provided in [Data](./Data/) folder, import it using method `read_csv`."
   ]
  },
  {
   "cell_type": "markdown",
   "id": "9d538711",
   "metadata": {},
   "source": [
    "1. How many rows and columns are there?"
   ]
  },
  {
   "cell_type": "code",
   "execution_count": null,
   "id": "0a4354a5",
   "metadata": {},
   "outputs": [],
   "source": [
    "## In order to load the file, use the path (./Data/cervical_cancer.csv)"
   ]
  },
  {
   "cell_type": "markdown",
   "id": "7e79f2fb-db11-45e6-98aa-acb7d6f6cd7d",
   "metadata": {},
   "source": [
    "2. How many columns contain floating point numbers (type float64)?"
   ]
  },
  {
   "cell_type": "code",
   "execution_count": null,
   "id": "1879ef73-6c55-4cc9-9720-8c707d067098",
   "metadata": {},
   "outputs": [],
   "source": [
    "\n"
   ]
  },
  {
   "cell_type": "markdown",
   "id": "8fb2a9d7",
   "metadata": {},
   "source": [
    "3. How many of the subjects are smokers?"
   ]
  },
  {
   "cell_type": "code",
   "execution_count": null,
   "id": "eec5ba18",
   "metadata": {},
   "outputs": [],
   "source": []
  },
  {
   "cell_type": "markdown",
   "id": "1c4b5ad8",
   "metadata": {},
   "source": [
    "4. Calculate the percentage of smokers"
   ]
  },
  {
   "cell_type": "code",
   "execution_count": null,
   "id": "ccb5b9f8",
   "metadata": {},
   "outputs": [],
   "source": []
  },
  {
   "cell_type": "markdown",
   "id": "dd176cc5",
   "metadata": {},
   "source": [
    "5. Plot the age distribution (with, for instance, 50 bins)"
   ]
  },
  {
   "cell_type": "code",
   "execution_count": null,
   "id": "c89936f5",
   "metadata": {},
   "outputs": [],
   "source": []
  },
  {
   "cell_type": "markdown",
   "id": "6474bf5c",
   "metadata": {},
   "source": [
    "6. Get the mean and standard distribution of age of first sexual intercourse"
   ]
  },
  {
   "cell_type": "code",
   "execution_count": null,
   "id": "51f7125f",
   "metadata": {},
   "outputs": [],
   "source": []
  }
 ],
 "metadata": {
  "kernelspec": {
   "display_name": "Python 3 (ipykernel)",
   "language": "python",
   "name": "python3"
  },
  "language_info": {
   "codemirror_mode": {
    "name": "ipython",
    "version": 3
   },
   "file_extension": ".py",
   "mimetype": "text/x-python",
   "name": "python",
   "nbconvert_exporter": "python",
   "pygments_lexer": "ipython3",
   "version": "3.12.5"
  }
 },
 "nbformat": 4,
 "nbformat_minor": 5
}
