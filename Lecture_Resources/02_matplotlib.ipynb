{
 "cells": [
  {
   "cell_type": "markdown",
   "id": "9bc44115-52c6-48c5-aaa0-214809fe5eab",
   "metadata": {},
   "source": [
    "# Matplotlib"
   ]
  },
  {
   "cell_type": "code",
   "execution_count": null,
   "id": "0f7812d3-337d-4cce-aa06-e5e9df6571ab",
   "metadata": {},
   "outputs": [],
   "source": [
    "from matplotlib.pyplot import subplots"
   ]
  },
  {
   "cell_type": "code",
   "execution_count": null,
   "id": "d3052418-ea61-4a4c-a3c6-a34e550acca4",
   "metadata": {},
   "outputs": [],
   "source": [
    "fig, ax = subplots()\n"
   ]
  },
  {
   "cell_type": "code",
   "execution_count": null,
   "id": "6371adb3-baea-4459-9c0c-bfd0b7db35a8",
   "metadata": {},
   "outputs": [],
   "source": [
    "fig, ax = subplots()\n",
    "\n",
    "fig.set_facecolor('r')\n",
    "ax.set_facecolor('b')"
   ]
  },
  {
   "cell_type": "code",
   "execution_count": null,
   "id": "829eb4ba-1f0b-4610-8192-80e3037d44e2",
   "metadata": {},
   "outputs": [],
   "source": [
    "fig, ax = subplots(ncols=2, figsize=(10, 5))\n",
    "\n",
    "fig.set_facecolor((0.5,0.5,0.5))\n",
    "\n",
    "ax[0].set_facecolor((0,1,1))\n",
    "ax[1].set_facecolor((0,1,0))\n",
    "\n",
    "ax[0].plot([1, 1.1, 3, 0.1])\n",
    "ax[1].plot([3, 2.5, 1.]);\n",
    "\n",
    "ax[0].tick_params(axis='x', colors='w')\n",
    "ax[0].tick_params(axis='y', colors='w')\n"
   ]
  },
  {
   "cell_type": "markdown",
   "id": "9e50855b-ca26-46cd-a79e-4274e7166b09",
   "metadata": {},
   "source": [
    "# Import Data"
   ]
  },
  {
   "cell_type": "code",
   "execution_count": null,
   "id": "32816652-73d2-42ad-8991-96dbda3574b2",
   "metadata": {},
   "outputs": [],
   "source": [
    "from pandas import read_csv\n",
    "\n",
    "df = read_csv('data/patients.csv')\n"
   ]
  },
  {
   "cell_type": "markdown",
   "id": "f481dd61-283e-448b-9e31-7cb3f4c2bb8d",
   "metadata": {},
   "source": [
    "# Data Plots\n",
    "## Boxplot"
   ]
  },
  {
   "cell_type": "code",
   "execution_count": null,
   "id": "0fbb5079-01e3-4fea-a06c-4cdbf4fbc6cc",
   "metadata": {},
   "outputs": [],
   "source": [
    "fig, ax = subplots(figsize=(2,4))\n",
    "\n",
    "ax.boxplot(df['Age']);"
   ]
  },
  {
   "cell_type": "markdown",
   "id": "363ac314-364d-4de1-a4f6-59f360b432bd",
   "metadata": {},
   "source": [
    "## Histogram"
   ]
  },
  {
   "cell_type": "code",
   "execution_count": null,
   "id": "d22b7b73-acd6-4350-b8d9-8bc0d439f8c1",
   "metadata": {},
   "outputs": [],
   "source": [
    "fig, ax = subplots(figsize=(6,4))\n",
    "\n",
    "ax.hist(df['Weight'], bins=20);"
   ]
  },
  {
   "cell_type": "markdown",
   "id": "6d780a06-48fd-4915-8cc5-810e37979dbc",
   "metadata": {},
   "source": [
    "## Multiple Panels"
   ]
  },
  {
   "cell_type": "code",
   "execution_count": null,
   "id": "18c2398f-b24e-4afc-8f52-67853b7f5d0b",
   "metadata": {},
   "outputs": [],
   "source": [
    "fig, ax = subplots(ncols=2, figsize=(8,4))\n",
    "\n",
    "ax[0].boxplot(df['Age']);\n",
    "ax[1].hist(df['Age'], bins=20);\n",
    "\n"
   ]
  },
  {
   "cell_type": "code",
   "execution_count": null,
   "id": "0a3a2ef4-11f9-475b-b3ab-246f7d7ed230",
   "metadata": {},
   "outputs": [],
   "source": [
    "fig, ax = subplots(ncols=2, figsize=(8,4))\n",
    "\n",
    "ax[0].boxplot(df['Age']);\n",
    "ax[0].set_title('Boxplot')\n",
    "ax[0].set_xlabel([])\n",
    "\n",
    "ax[1].hist(df['Age'], bins=20);\n",
    "ax[1].set_title('Histogram')\n",
    "ax[1].set_xlabel('Ages')\n",
    "\n",
    "fig.suptitle('My wonderful plot', fontsize=20)\n",
    "fig.tight_layout()"
   ]
  },
  {
   "cell_type": "code",
   "execution_count": null,
   "id": "d0f158ae-6847-4fcb-877e-1317983eb2f1",
   "metadata": {},
   "outputs": [],
   "source": []
  }
 ],
 "metadata": {
  "kernelspec": {
   "display_name": "Python 3 (ipykernel)",
   "language": "python",
   "name": "python3"
  },
  "language_info": {
   "codemirror_mode": {
    "name": "ipython",
    "version": 3
   },
   "file_extension": ".py",
   "mimetype": "text/x-python",
   "name": "python",
   "nbconvert_exporter": "python",
   "pygments_lexer": "ipython3",
   "version": "3.8.13"
  }
 },
 "nbformat": 4,
 "nbformat_minor": 5
}
