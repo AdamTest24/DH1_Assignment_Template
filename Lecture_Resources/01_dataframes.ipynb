{
 "cells": [
  {
   "cell_type": "markdown",
   "id": "3369d55c-5737-4a1f-b68a-97694d625a0c",
   "metadata": {},
   "source": [
    "# Dataframes\n",
    "## Import data"
   ]
  },
  {
   "cell_type": "code",
   "execution_count": null,
   "id": "99785256-c79d-4038-bd7a-a7fdef1821d5",
   "metadata": {},
   "outputs": [],
   "source": [
    "from pandas import read_csv"
   ]
  },
  {
   "cell_type": "code",
   "execution_count": null,
   "id": "1dfbed1a-194b-44bf-89bb-be5acb7f8d44",
   "metadata": {},
   "outputs": [],
   "source": [
    "df = read_csv('data/patients.csv')\n",
    "\n",
    "type(df)"
   ]
  },
  {
   "cell_type": "markdown",
   "id": "defdd94f-9027-4022-a30d-f0c678408652",
   "metadata": {},
   "source": [
    "## Inspect"
   ]
  },
  {
   "cell_type": "code",
   "execution_count": null,
   "id": "57b489f2-3597-4217-b48d-432f14f46b20",
   "metadata": {},
   "outputs": [],
   "source": [
    "df.head(3)"
   ]
  },
  {
   "cell_type": "code",
   "execution_count": null,
   "id": "b84c4617-bf72-4938-8a1e-e988e328356d",
   "metadata": {},
   "outputs": [],
   "source": [
    "df\n"
   ]
  },
  {
   "cell_type": "code",
   "execution_count": null,
   "id": "9b538e24-8845-441d-a54d-65137ac551a8",
   "metadata": {},
   "outputs": [],
   "source": [
    "len(df)"
   ]
  },
  {
   "cell_type": "code",
   "execution_count": null,
   "id": "04790b3c-5c75-4263-abe6-6ca7e0592cec",
   "metadata": {},
   "outputs": [],
   "source": [
    "len(df.columns)"
   ]
  },
  {
   "cell_type": "code",
   "execution_count": null,
   "id": "75b511c0-ccfb-42e9-bed5-b4c913687d35",
   "metadata": {},
   "outputs": [],
   "source": [
    "df.count()"
   ]
  },
  {
   "cell_type": "code",
   "execution_count": null,
   "id": "145c988a-5156-4533-b9df-c7512bd7acf8",
   "metadata": {},
   "outputs": [],
   "source": [
    "df.shape"
   ]
  },
  {
   "cell_type": "markdown",
   "id": "aaa70b0d-629a-4e0f-bd90-2fd337bac8b3",
   "metadata": {},
   "source": [
    "## Access using 'iloc'"
   ]
  },
  {
   "cell_type": "code",
   "execution_count": null,
   "id": "95921918-352e-483f-b533-1712d7a5517f",
   "metadata": {},
   "outputs": [],
   "source": [
    "df.iloc[:, :]"
   ]
  },
  {
   "cell_type": "code",
   "execution_count": null,
   "id": "0f7ae7af-302f-4562-9cf9-a21662b9f853",
   "metadata": {},
   "outputs": [],
   "source": [
    "df.iloc[1:5, 0]"
   ]
  },
  {
   "cell_type": "code",
   "execution_count": null,
   "id": "809449bc-ce31-41fe-bb61-941ffc027c46",
   "metadata": {},
   "outputs": [],
   "source": [
    "df.iloc[1:5, [0, 2, 4]]"
   ]
  },
  {
   "cell_type": "code",
   "execution_count": null,
   "id": "08b61abc-311b-41f3-bb38-8a86a1ade3ce",
   "metadata": {},
   "outputs": [],
   "source": []
  },
  {
   "cell_type": "markdown",
   "id": "399622c1-9bc6-42e0-aa91-d9f60a054e61",
   "metadata": {},
   "source": [
    "## Convert to Numpy Array"
   ]
  },
  {
   "cell_type": "code",
   "execution_count": null,
   "id": "43f358fd-b217-4dca-aebd-797ff52a7468",
   "metadata": {},
   "outputs": [],
   "source": [
    "data = df.to_numpy()\n",
    "\n",
    "type(data)"
   ]
  },
  {
   "cell_type": "code",
   "execution_count": null,
   "id": "029bc0f4-c45e-4336-9950-6ba7662a1291",
   "metadata": {},
   "outputs": [],
   "source": [
    "data.shape"
   ]
  },
  {
   "cell_type": "code",
   "execution_count": null,
   "id": "6b04b7c9-8a12-4cb0-8040-84cc147477a1",
   "metadata": {},
   "outputs": [],
   "source": [
    "data[:5, :]"
   ]
  },
  {
   "cell_type": "code",
   "execution_count": null,
   "id": "46115235-46e4-4a9d-9ddf-6c14abe34c14",
   "metadata": {},
   "outputs": [],
   "source": []
  },
  {
   "cell_type": "markdown",
   "id": "5d4a0e1a-e525-4330-862d-525cb5b47206",
   "metadata": {},
   "source": [
    "## For Loop with Dataframe\n"
   ]
  },
  {
   "cell_type": "code",
   "execution_count": null,
   "id": "26bbaae2-1467-467a-a96d-fc8584967f80",
   "metadata": {},
   "outputs": [],
   "source": [
    "for col in df:\n",
    "    \n",
    "    print(col)"
   ]
  },
  {
   "cell_type": "code",
   "execution_count": null,
   "id": "93ab1432-2366-41dd-950a-13b1385dfc34",
   "metadata": {},
   "outputs": [],
   "source": [
    "for col in df:\n",
    "    \n",
    "    print(col, df[col][0])\n",
    "    "
   ]
  },
  {
   "cell_type": "code",
   "execution_count": null,
   "id": "7e6a170c-f2bb-4518-a02a-2260cee21fcb",
   "metadata": {},
   "outputs": [],
   "source": []
  },
  {
   "cell_type": "markdown",
   "id": "63092116-bd3a-4353-8ec1-2980ff91bb3e",
   "metadata": {},
   "source": [
    "## Basic Statistics"
   ]
  },
  {
   "cell_type": "code",
   "execution_count": null,
   "id": "856d68cd-2883-455d-927a-8109d593dbf9",
   "metadata": {},
   "outputs": [],
   "source": [
    "df.describe()"
   ]
  },
  {
   "cell_type": "code",
   "execution_count": null,
   "id": "577a7ff9-de41-4d05-828d-c1d588eea90d",
   "metadata": {},
   "outputs": [],
   "source": [
    "description = df.describe()"
   ]
  },
  {
   "cell_type": "code",
   "execution_count": null,
   "id": "5f37d739-d6d8-46fc-ac8e-43ba5d916cd2",
   "metadata": {},
   "outputs": [],
   "source": [
    "type(description)"
   ]
  },
  {
   "cell_type": "code",
   "execution_count": null,
   "id": "7746fe7a-e6a8-4d9b-9b33-92901c6eae8f",
   "metadata": {},
   "outputs": [],
   "source": [
    "description['Age']['mean']"
   ]
  },
  {
   "cell_type": "code",
   "execution_count": null,
   "id": "d008dd87-3daa-4bb3-9418-c52421f18a92",
   "metadata": {},
   "outputs": [],
   "source": [
    "description['Age'][1]"
   ]
  },
  {
   "cell_type": "code",
   "execution_count": null,
   "id": "3fb3d7a5-6e51-46be-8a51-4846f9aa6142",
   "metadata": {},
   "outputs": [],
   "source": [
    "description[0][1]"
   ]
  },
  {
   "cell_type": "code",
   "execution_count": null,
   "id": "412d949e-eebd-44f1-9e80-ccf1b5c4cf86",
   "metadata": {},
   "outputs": [],
   "source": [
    "description.values"
   ]
  },
  {
   "cell_type": "code",
   "execution_count": null,
   "id": "ebff2cb0-8ad6-4124-8580-0e5dc558b121",
   "metadata": {},
   "outputs": [],
   "source": [
    "description.values[:, -1]"
   ]
  },
  {
   "cell_type": "code",
   "execution_count": null,
   "id": "b121b04c-0f47-4f7f-82aa-cb89347de21a",
   "metadata": {},
   "outputs": [],
   "source": []
  },
  {
   "cell_type": "markdown",
   "id": "2254ddb6-0f6e-41ad-9b08-85ecdea74b5e",
   "metadata": {},
   "source": [
    "## Save as csv file"
   ]
  },
  {
   "cell_type": "code",
   "execution_count": null,
   "id": "9bcf7be9-3745-4833-8fb9-3b286c5687df",
   "metadata": {},
   "outputs": [],
   "source": [
    "description.to_csv('patients_stats.csv')"
   ]
  },
  {
   "cell_type": "markdown",
   "id": "4430e38b-dd7b-451b-a445-f9a0c3318f25",
   "metadata": {},
   "source": [
    "Opens in Excel and Numbers"
   ]
  }
 ],
 "metadata": {
  "kernelspec": {
   "display_name": "Python 3 (ipykernel)",
   "language": "python",
   "name": "python3"
  },
  "language_info": {
   "codemirror_mode": {
    "name": "ipython",
    "version": 3
   },
   "file_extension": ".py",
   "mimetype": "text/x-python",
   "name": "python",
   "nbconvert_exporter": "python",
   "pygments_lexer": "ipython3",
   "version": "3.8.13"
  }
 },
 "nbformat": 4,
 "nbformat_minor": 5
}
